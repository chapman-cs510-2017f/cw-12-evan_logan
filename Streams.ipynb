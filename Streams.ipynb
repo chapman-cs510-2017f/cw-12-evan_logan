{
 "cells": [
  {
   "cell_type": "markdown",
   "metadata": {
    "collapsed": false
   },
   "source": [
    "# Streams Analysis #"
   ]
  },
  {
   "cell_type": "markdown",
   "metadata": {
    "collapsed": false
   },
   "source": [
    "## Key differences between C and C++ ##"
   ]
  },
  {
   "cell_type": "markdown",
   "metadata": {
    "collapsed": false
   },
   "source": [
    "* C++ has the capability of printing to an interface using cout << \"string\" << endl;\n",
    "where << automatically converts to a C++ string; << and >> has many other uses besides printing.\n",
    "* C++ has a string datatypes.\n",
    "* Ability to define namespaces & import them in the same file.\n",
    "* C does not have the keyword \"using\".\n",
    "* return 0; in the main is not necessary in C++ whereas in C, and error would be thrown.\n",
    "* C does not allow overloading, or polymorphism, whereas C++ allows this."
   ]
  },
  {
   "cell_type": "markdown",
   "metadata": {
    "collapsed": false
   },
   "source": [
    "**Namespace:** the keyword namespace is used to handle collisions of naming conventions. this way we can reference variables from different namespaces without double declarations."
   ]
  },
  {
   "cell_type": "markdown",
   "metadata": {
    "collapsed": false
   },
   "source": [
    "**Symbol :: in C++** :  the \"::\" symbol in C++ acts much like \".\" in python and java. meant to reference a specific namespace and find a specific function inside that namespace"
   ]
  },
  {
   "cell_type": "markdown",
   "metadata": {
    "collapsed": false
   },
   "source": [
    "**String Differences:** Strings in C++ are objects on their own and are defined in their own class, its own datatype. Whereas C strings are more hands on and defined as an array of chars. C++, being built on C, handles them similarly, but it is done in another class and hides the nitty-gritty details of how strings actually behave, considering they are arrays of chars."
   ]
  },
  {
   "cell_type": "markdown",
   "metadata": {
    "collapsed": false
   },
   "source": [
    "**IOStream Differences:** reading from the command line doesn't change much, the notation and syntax for main() does not change significantly. However, C++ has a more sophisticated documantion for iostreams by using >> and << symbols, and also defining the type of data being output. for example, ofstream is its own class for handling the output of files. std error, and printing is used with the symbol << and >>, which handles input and output. for printing, cout works and for error, cerr works with << to begin outputing errors & printing."
   ]
  }
 ],
 "metadata": {
  "kernelspec": {
   "display_name": "Python 3 (Anaconda)",
   "language": "python",
   "name": "anaconda3"
  },
  "language_info": {
   "codemirror_mode": {
    "name": "ipython",
    "version": 3
   },
   "file_extension": ".py",
   "mimetype": "text/x-python",
   "name": "python",
   "nbconvert_exporter": "python",
   "pygments_lexer": "ipython3",
   "version": "3.5.4"
  }
 },
 "nbformat": 4,
 "nbformat_minor": 0
}